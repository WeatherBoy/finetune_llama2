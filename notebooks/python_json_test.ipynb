{
 "cells": [
  {
   "cell_type": "markdown",
   "metadata": {},
   "source": [
    "# Test of `json` functionality in Python"
   ]
  },
  {
   "cell_type": "code",
   "execution_count": 1,
   "metadata": {},
   "outputs": [
    {
     "name": "stdout",
     "output_type": "stream",
     "text": [
      "{\n",
      "    \"documentationInstruction\": \"Jeg justerede medicinen for fru Ingrid Johansen, som er 82 \\u00c3\\u00a5r, fordi hun oplevede ubehag i sit h\\u00c3\\u00b8jre kn\\u00c3\\u00a6 p\\u00c3\\u00a5 grund af gigt. Vi hjalp hende med hendes morgenhygiejne og snakkede om hendes havearbejde, som hun er glad for. Husk at notere, at vi skal holde \\u00c3\\u00b8je med hendes smerter efter medicin\\u00c3\\u00a6ndringen og opmuntre hende til lette \\u00c3\\u00b8velser. Jeg informerede ogs\\u00c3\\u00a5 hendes datter om \\u00c3\\u00a6ndringen i medicinering og \\u00c3\\u00b8velserne under hendes bes\\u00c3\\u00b8g.\",\n",
      "    \"processedDocumentation\": {\n",
      "        \"patient\": \"Ingrid Johansen\",\n",
      "        \"age\": 82,\n",
      "        \"observations\": \"Ubehag i h\\u00c3\\u00b8jre kn\\u00c3\\u00a6 p\\u00c3\\u00a5 grund af gigt og tilpassede medicinering som f\\u00c3\\u00b8lge af ubehagen.\",\n",
      "        \"care_provided\": \"Hj\\u00c3\\u00a6lp til morgenhygiejne og samtale om havearbejde.\",\n",
      "        \"plan\": \"Overv\\u00c3\\u00a5ge smerten efter medicin\\u00c3\\u00a6ndring, opmuntre til lette \\u00c3\\u00b8velser.\",\n",
      "        \"family_interaction\": \"Informerede datteren om medicin\\u00c3\\u00a6ndring og \\u00c3\\u00b8velser.\"\n",
      "    }\n",
      "}\n"
     ]
    }
   ],
   "source": [
    "import json\n",
    "\n",
    "# Read and load JSON file from data directory\n",
    "with open('data/json_to_text_test.json') as json_file:\n",
    "    test_data = json.load(json_file)\n",
    "\n",
    "# print JSON data as string\n",
    "print(json.dumps(test_data, indent=4))"
   ]
  }
 ],
 "metadata": {
  "kernelspec": {
   "display_name": "llama2_venv",
   "language": "python",
   "name": "python3"
  },
  "language_info": {
   "codemirror_mode": {
    "name": "ipython",
    "version": 3
   },
   "file_extension": ".py",
   "mimetype": "text/x-python",
   "name": "python",
   "nbconvert_exporter": "python",
   "pygments_lexer": "ipython3",
   "version": "3.10.6"
  }
 },
 "nbformat": 4,
 "nbformat_minor": 2
}
